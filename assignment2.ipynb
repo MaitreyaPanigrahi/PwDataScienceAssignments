{
 "cells": [
  {
   "cell_type": "code",
   "execution_count": 2,
   "id": "bb99036a-eb6a-490d-87f2-19e6ba2d46a6",
   "metadata": {},
   "outputs": [
    {
     "data": {
      "text/plain": [
       "' We comment code in Python by two ways. First by using hashtag and second \\nusing 3 opening and closing apostrophe. There are two types of comments.\\nThey are single line comment and multi line comment '"
      ]
     },
     "execution_count": 2,
     "metadata": {},
     "output_type": "execute_result"
    }
   ],
   "source": [
    "#Q1 \n",
    "\"\"\" We comment code in Python by two ways. First by using hashtag and second \n",
    "using 3 opening and closing apostrophe. There are two types of comments.\n",
    "They are single line comment and multi line comment \"\"\" "
   ]
  },
  {
   "cell_type": "code",
   "execution_count": 3,
   "id": "160a8e60-99d2-40e9-a5ea-c1daf003e712",
   "metadata": {},
   "outputs": [],
   "source": [
    "#Q2\n",
    "\"\"\"In Python, variables are used to store data values. \n",
    "They act as placeholders that can be used to refer to\n",
    "different types of data, such as numbers, strings, or more \n",
    "complex data structures like lists or dictionaries. \n",
    "Variables provide a way to \n",
    "manipulate and work with data throughout the program.\n",
    "\n",
    "To declare a variable in Python, you simply choose a name for the variable\n",
    "and use the assignment operator(=) to assign a value to it. For example\"\"\"\n",
    "\n",
    "a = 3"
   ]
  },
  {
   "cell_type": "code",
   "execution_count": 4,
   "id": "c109e19e-b06d-479e-a284-8aaf5285f70b",
   "metadata": {},
   "outputs": [
    {
     "data": {
      "text/plain": [
       "3"
      ]
     },
     "execution_count": 4,
     "metadata": {},
     "output_type": "execute_result"
    }
   ],
   "source": [
    "a"
   ]
  },
  {
   "cell_type": "code",
   "execution_count": 8,
   "id": "0d24679a-e0a9-4061-9904-7111b73da232",
   "metadata": {},
   "outputs": [
    {
     "data": {
      "text/plain": [
       "10"
      ]
     },
     "execution_count": 8,
     "metadata": {},
     "output_type": "execute_result"
    }
   ],
   "source": [
    "#Q3\n",
    "\"\"\" We can convert one data type to another in Python by using type \n",
    "casting in built functions. For example\"\"\"\n",
    "# Converting string to int\n",
    "a = '10'\n",
    "int(a)"
   ]
  },
  {
   "cell_type": "code",
   "execution_count": 9,
   "id": "3e72aabb-32c0-4661-924b-ac23c1b50ac6",
   "metadata": {},
   "outputs": [
    {
     "data": {
      "text/plain": [
       "10.0"
      ]
     },
     "execution_count": 9,
     "metadata": {},
     "output_type": "execute_result"
    }
   ],
   "source": [
    "# Converting int to float\n",
    "b = 10\n",
    "float(10)"
   ]
  },
  {
   "cell_type": "code",
   "execution_count": 10,
   "id": "35d4c929-5ee3-41eb-8bb2-ce141ef271ae",
   "metadata": {},
   "outputs": [
    {
     "name": "stdout",
     "output_type": "stream",
     "text": [
      "Hello World\n"
     ]
    }
   ],
   "source": [
    "#Q4\n",
    "\"\"\"\n",
    "To write and execute a Python script from the command line,\n",
    "follow these steps:\n",
    "\n",
    "1.Open a text editor and create a new file with a .py extension. \n",
    "For example, you can create a file named script.py.\n",
    "\n",
    "2.Write your Python code in the created file. \n",
    "For example, you can add the following code that prints a simple message:\"\"\"\n",
    "\n",
    "print(\"Hello World\")"
   ]
  },
  {
   "cell_type": "code",
   "execution_count": 12,
   "id": "f4d5947b-0cfa-4c4f-bac0-77bebbff5426",
   "metadata": {},
   "outputs": [
    {
     "data": {
      "text/plain": [
       "[2, 3]"
      ]
     },
     "execution_count": 12,
     "metadata": {},
     "output_type": "execute_result"
    }
   ],
   "source": [
    "#Q5\n",
    "my_list = [1,2,3,4,5]\n",
    "my_list[1:3]"
   ]
  },
  {
   "cell_type": "code",
   "execution_count": 14,
   "id": "8407d8e1-8871-4ebb-84f4-1e4b1154d74c",
   "metadata": {},
   "outputs": [
    {
     "data": {
      "text/plain": [
       "(4+5j)"
      ]
     },
     "execution_count": 14,
     "metadata": {},
     "output_type": "execute_result"
    }
   ],
   "source": [
    "#Q6\n",
    "\"\"\" Combination of real and imaginary number makes complex number. \n",
    "In Python its represented by a+bj or a+bJ. For example\"\"\"\n",
    "\n",
    "a = 4+5j\n",
    "a"
   ]
  },
  {
   "cell_type": "code",
   "execution_count": 15,
   "id": "d99bd06f-8a7e-42be-aed5-da90630ca512",
   "metadata": {},
   "outputs": [
    {
     "data": {
      "text/plain": [
       "(8+8j)"
      ]
     },
     "execution_count": 15,
     "metadata": {},
     "output_type": "execute_result"
    }
   ],
   "source": [
    "b = 8 + 8J\n",
    "b"
   ]
  },
  {
   "cell_type": "code",
   "execution_count": 1,
   "id": "dafb4cf5-45b0-48d7-bed4-62a36cd4de28",
   "metadata": {},
   "outputs": [
    {
     "data": {
      "text/plain": [
       "25"
      ]
     },
     "execution_count": 1,
     "metadata": {},
     "output_type": "execute_result"
    }
   ],
   "source": [
    "#Q7\n",
    "''' The correct way to declare a variable is'''\n",
    "age = 25\n",
    "age"
   ]
  },
  {
   "cell_type": "code",
   "execution_count": 2,
   "id": "38d0bde6-bf4f-4e93-ab76-a3c6a910b7e8",
   "metadata": {},
   "outputs": [
    {
     "data": {
      "text/plain": [
       "float"
      ]
     },
     "execution_count": 2,
     "metadata": {},
     "output_type": "execute_result"
    }
   ],
   "source": [
    "#Q8\n",
    "price = 9.99\n",
    "type(price)"
   ]
  },
  {
   "cell_type": "code",
   "execution_count": 6,
   "id": "aa10ae06-4247-43dc-aafa-b101409263ca",
   "metadata": {},
   "outputs": [
    {
     "data": {
      "text/plain": [
       "'Maitreya Panigrahi'"
      ]
     },
     "execution_count": 6,
     "metadata": {},
     "output_type": "execute_result"
    }
   ],
   "source": [
    "#Q9\n",
    "name = 'Maitreya Panigrahi'\n",
    "name[::]"
   ]
  },
  {
   "cell_type": "code",
   "execution_count": null,
   "id": "8ab99e75-4137-4e89-996f-1dfe59a43374",
   "metadata": {},
   "outputs": [],
   "source": [
    "#Q10\n"
   ]
  }
 ],
 "metadata": {
  "kernelspec": {
   "display_name": "Python 3 (ipykernel)",
   "language": "python",
   "name": "python3"
  },
  "language_info": {
   "codemirror_mode": {
    "name": "ipython",
    "version": 3
   },
   "file_extension": ".py",
   "mimetype": "text/x-python",
   "name": "python",
   "nbconvert_exporter": "python",
   "pygments_lexer": "ipython3",
   "version": "3.10.8"
  }
 },
 "nbformat": 4,
 "nbformat_minor": 5
}
