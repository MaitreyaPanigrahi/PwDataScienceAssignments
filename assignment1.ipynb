{
 "cells": [
  {
   "cell_type": "code",
   "execution_count": 1,
   "id": "43232028-de5c-4001-a411-c9f5a8d8899f",
   "metadata": {},
   "outputs": [
    {
     "data": {
      "text/plain": [
       "['nseeb', [1, 2, 3, 4], 3.13, (4, 5, 6, 7)]"
      ]
     },
     "execution_count": 1,
     "metadata": {},
     "output_type": "execute_result"
    }
   ],
   "source": [
    "#Q1\n",
    "l = ['nseeb',[1,2,3,4],3.13,(4,5,6,7)]\n",
    "l"
   ]
  },
  {
   "cell_type": "code",
   "execution_count": 3,
   "id": "accc6118-f735-42ad-ac47-9bace9a781c6",
   "metadata": {},
   "outputs": [
    {
     "data": {
      "text/plain": [
       "str"
      ]
     },
     "execution_count": 3,
     "metadata": {},
     "output_type": "execute_result"
    }
   ],
   "source": [
    "#Q2\n",
    "var1 = ''\n",
    "var2 = '[DS,ML,Python]'\n",
    "var3 = ['DS','ML','Python']\n",
    "var4 = 1\n",
    "type(var1)"
   ]
  },
  {
   "cell_type": "code",
   "execution_count": 4,
   "id": "ff2c87bb-44b1-4271-9f9b-7483735a6102",
   "metadata": {},
   "outputs": [
    {
     "data": {
      "text/plain": [
       "str"
      ]
     },
     "execution_count": 4,
     "metadata": {},
     "output_type": "execute_result"
    }
   ],
   "source": [
    "type(var2)"
   ]
  },
  {
   "cell_type": "code",
   "execution_count": 5,
   "id": "a063f515-f790-4731-9d7b-38bce4ca877a",
   "metadata": {},
   "outputs": [
    {
     "data": {
      "text/plain": [
       "list"
      ]
     },
     "execution_count": 5,
     "metadata": {},
     "output_type": "execute_result"
    }
   ],
   "source": [
    "type(var3)"
   ]
  },
  {
   "cell_type": "code",
   "execution_count": 6,
   "id": "30defdbd-6b9e-4999-abfe-c1a78b852f6e",
   "metadata": {},
   "outputs": [
    {
     "data": {
      "text/plain": [
       "int"
      ]
     },
     "execution_count": 6,
     "metadata": {},
     "output_type": "execute_result"
    }
   ],
   "source": [
    "type(var4)"
   ]
  },
  {
   "cell_type": "code",
   "execution_count": 11,
   "id": "d4851059-39d5-4ce0-9f42-8dfc28c60f9f",
   "metadata": {},
   "outputs": [
    {
     "data": {
      "text/plain": [
       "2.5"
      ]
     },
     "execution_count": 11,
     "metadata": {},
     "output_type": "execute_result"
    }
   ],
   "source": [
    "#Q3\n",
    "\"\"\"i) / :- Its gives the answer as a floating number when we divide to number\n",
    "            or variable\"\"\"\n",
    "a = 10\n",
    "b = 4\n",
    "a / b"
   ]
  },
  {
   "cell_type": "code",
   "execution_count": 13,
   "id": "7f5585e9-eaba-49fd-8ee6-b0877fcf7eba",
   "metadata": {},
   "outputs": [
    {
     "data": {
      "text/plain": [
       "1"
      ]
     },
     "execution_count": 13,
     "metadata": {},
     "output_type": "execute_result"
    }
   ],
   "source": [
    " ''' ii) % :- Its gives the answer as the remainder of two number or varibale\n",
    "                 when we divide them'''\n",
    "a = 10\n",
    "b = 3\n",
    "a % 3"
   ]
  },
  {
   "cell_type": "code",
   "execution_count": 17,
   "id": "ce4563ba-e37c-421e-80b8-d65986e1fc73",
   "metadata": {},
   "outputs": [
    {
     "data": {
      "text/plain": [
       "2"
      ]
     },
     "execution_count": 17,
     "metadata": {},
     "output_type": "execute_result"
    }
   ],
   "source": [
    "\"\"\"iii) / :- Its gives the answer as a integer number when we divide to number\n",
    "            or variable\"\"\"\n",
    "a = 10\n",
    "b = 4\n",
    "a // b"
   ]
  },
  {
   "cell_type": "code",
   "execution_count": 18,
   "id": "1c924934-e8fe-46df-86ca-31abf9cd5b56",
   "metadata": {},
   "outputs": [
    {
     "data": {
      "text/plain": [
       "25"
      ]
     },
     "execution_count": 18,
     "metadata": {},
     "output_type": "execute_result"
    }
   ],
   "source": [
    "\"\"\"iv) / :- Its gives the answer as a power of a  number \n",
    "            or variable\"\"\"\n",
    "a = 5\n",
    "a ** 2"
   ]
  },
  {
   "cell_type": "code",
   "execution_count": 19,
   "id": "ec2c4340-82de-4478-89d5-1a9ee5a4854d",
   "metadata": {},
   "outputs": [
    {
     "data": {
      "text/plain": [
       "125"
      ]
     },
     "execution_count": 19,
     "metadata": {},
     "output_type": "execute_result"
    }
   ],
   "source": [
    "a ** 3"
   ]
  },
  {
   "cell_type": "code",
   "execution_count": 20,
   "id": "c0568064-1e30-44f6-a5f6-86bf15f66e39",
   "metadata": {},
   "outputs": [
    {
     "name": "stdout",
     "output_type": "stream",
     "text": [
      "1\n",
      "<class 'int'>\n",
      "2\n",
      "<class 'int'>\n",
      "['nseeb', 'maitreya']\n",
      "<class 'list'>\n",
      "(3+5j)\n",
      "<class 'complex'>\n",
      "panigrahi\n",
      "<class 'str'>\n",
      "(1, 2, 3)\n",
      "<class 'tuple'>\n",
      "{'name': 'maitreya', 'roll.No': 86}\n",
      "<class 'dict'>\n"
     ]
    }
   ],
   "source": [
    "#Q4\n",
    "l = [1,2,['nseeb','maitreya'] , 3+5j , 'panigrahi',(1,2,3),\n",
    "     {'name' : 'maitreya' , 'roll.No' :86} ] \n",
    "for i in l:\n",
    "    print(i)\n",
    "    print(type(i))"
   ]
  },
  {
   "cell_type": "code",
   "execution_count": 24,
   "id": "2f424b78-f2c0-4add-9ca5-7e78a22ccd4e",
   "metadata": {},
   "outputs": [
    {
     "name": "stdout",
     "output_type": "stream",
     "text": [
      " a is divisible by b 4 times\n"
     ]
    }
   ],
   "source": [
    "#Q5\n",
    "count = 0\n",
    "a = 48\n",
    "b = 2\n",
    "while a % b == 0:\n",
    "    a = a / b\n",
    "    count = count + 1\n",
    "if count > 0:\n",
    "    print(\" a is divisible by b {} times\" . format(count))\n",
    "else:\n",
    "    print(' a is not divisible by b')"
   ]
  },
  {
   "cell_type": "code",
   "execution_count": 27,
   "id": "fe5ad03d-61e7-4e23-b84c-720c7095d0ae",
   "metadata": {},
   "outputs": [
    {
     "name": "stdout",
     "output_type": "stream",
     "text": [
      "1 is not divisible by 3\n",
      "2 is not divisible by 3\n",
      "3 is divisible by 3\n",
      "4 is not divisible by 3\n",
      "5 is not divisible by 3\n",
      "6 is divisible by 3\n",
      "7 is not divisible by 3\n",
      "8 is not divisible by 3\n",
      "9 is divisible by 3\n",
      "10 is not divisible by 3\n",
      "11 is not divisible by 3\n",
      "12 is divisible by 3\n",
      "13 is not divisible by 3\n",
      "14 is not divisible by 3\n",
      "15 is divisible by 3\n",
      "16 is not divisible by 3\n",
      "17 is not divisible by 3\n",
      "18 is divisible by 3\n",
      "19 is not divisible by 3\n",
      "20 is not divisible by 3\n",
      "21 is divisible by 3\n",
      "22 is not divisible by 3\n",
      "23 is not divisible by 3\n",
      "24 is divisible by 3\n",
      "25 is not divisible by 3\n"
     ]
    }
   ],
   "source": [
    "#Q6\n",
    "l = []\n",
    "for i in range(1,26):\n",
    "    l.append(i)\n",
    "for i in l:\n",
    "    if i % 3 == 0:\n",
    "        print('{} is divisible by 3'.format(i))\n",
    "    else:\n",
    "        print('{} is not divisible by 3'.format(i))"
   ]
  },
  {
   "cell_type": "code",
   "execution_count": 28,
   "id": "164007b7-03c2-42ab-8a79-02c6ee216495",
   "metadata": {},
   "outputs": [
    {
     "data": {
      "text/plain": [
       "[1, 2, 4, 5, 5]"
      ]
     },
     "execution_count": 28,
     "metadata": {},
     "output_type": "execute_result"
    }
   ],
   "source": [
    "#Q7\n",
    "''' Mutable data types are the data types whose elements can be changed\n",
    "    or whose nature is changable. For example list,dictionary,sets'''\n",
    "l = [1,2,4,5]\n",
    "l.append(5)\n",
    "l"
   ]
  },
  {
   "cell_type": "code",
   "execution_count": null,
   "id": "7b06e867-906a-4f94-9090-d39ececf9f92",
   "metadata": {},
   "outputs": [],
   "source": [
    "''' Immutable data types are the data types whose elements cannot be changed \n",
    "    or whose nature is unchangable."
   ]
  }
 ],
 "metadata": {
  "kernelspec": {
   "display_name": "Python 3 (ipykernel)",
   "language": "python",
   "name": "python3"
  },
  "language_info": {
   "codemirror_mode": {
    "name": "ipython",
    "version": 3
   },
   "file_extension": ".py",
   "mimetype": "text/x-python",
   "name": "python",
   "nbconvert_exporter": "python",
   "pygments_lexer": "ipython3",
   "version": "3.10.8"
  }
 },
 "nbformat": 4,
 "nbformat_minor": 5
}
