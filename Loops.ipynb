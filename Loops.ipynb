{
 "cells": [
  {
   "cell_type": "code",
   "execution_count": 8,
   "id": "a07b7fca-3efe-4ea8-b7ce-55baa45f4164",
   "metadata": {},
   "outputs": [
    {
     "name": "stdout",
     "output_type": "stream",
     "text": [
      "3\n",
      "4\n",
      "5\n",
      "6\n",
      "5\n",
      "7\n",
      "7\n",
      "44\n"
     ]
    }
   ],
   "source": [
    "l = [2,3,4,5,4,6,6,43]\n",
    "l1 = []\n",
    "for i in l :\n",
    "    \n",
    "    print (i + 1)\n",
    "    l1.append(i + 1)\n",
    "    "
   ]
  },
  {
   "cell_type": "code",
   "execution_count": 9,
   "id": "35ab67af-eef2-4799-915f-9723e5113e6b",
   "metadata": {},
   "outputs": [
    {
     "data": {
      "text/plain": [
       "[3, 4, 5, 6, 5, 7, 7, 44]"
      ]
     },
     "execution_count": 9,
     "metadata": {},
     "output_type": "execute_result"
    }
   ],
   "source": [
    "l1"
   ]
  },
  {
   "cell_type": "code",
   "execution_count": 10,
   "id": "e6b9ee50-ccf5-4693-8aea-fe21c6f74ebe",
   "metadata": {},
   "outputs": [
    {
     "name": "stdout",
     "output_type": "stream",
     "text": [
      "m\n",
      "a\n",
      "i\n",
      "t\n",
      "r\n",
      "e\n",
      "y\n",
      "a\n"
     ]
    }
   ],
   "source": [
    "name = 'maitreya'\n",
    "for i in name:\n",
    "    print (i)"
   ]
  },
  {
   "cell_type": "code",
   "execution_count": 11,
   "id": "53a44349-a1e3-4573-ad2b-437845fc7ece",
   "metadata": {},
   "outputs": [
    {
     "name": "stdout",
     "output_type": "stream",
     "text": [
      "12\n",
      "2\n",
      "3\n",
      "4\n",
      "7\n"
     ]
    }
   ],
   "source": [
    "t = (12,2,3,4,7)\n",
    "for i in t:\n",
    "    print(i)"
   ]
  },
  {
   "cell_type": "code",
   "execution_count": 12,
   "id": "44432569-2ce8-40a4-acb0-eaea80b19153",
   "metadata": {},
   "outputs": [
    {
     "name": "stdout",
     "output_type": "stream",
     "text": [
      "1\n",
      "2\n",
      "4\n",
      "5\n",
      "7\n"
     ]
    }
   ],
   "source": [
    "s = {1,1,2,4,5,7}\n",
    "for i in s:\n",
    "    print(i)"
   ]
  },
  {
   "cell_type": "code",
   "execution_count": 19,
   "id": "06819e4d-bd56-412a-aa78-2d095c6cd938",
   "metadata": {},
   "outputs": [
    {
     "name": "stdout",
     "output_type": "stream",
     "text": [
      "name\n",
      "number\n"
     ]
    }
   ],
   "source": [
    "d = {'name' :'maitreya' , 'number' :7686}\n",
    "for i in d:\n",
    "    print (i)"
   ]
  },
  {
   "cell_type": "code",
   "execution_count": 37,
   "id": "7c618c13-0d27-4551-8e74-fb64ce8ac3a5",
   "metadata": {},
   "outputs": [],
   "source": [
    "l1 = []\n",
    "l = ['nseeb','pwskills','course','maitreya']"
   ]
  },
  {
   "cell_type": "code",
   "execution_count": 38,
   "id": "04d9f9d8-e940-49b8-9445-77bb6639ba48",
   "metadata": {},
   "outputs": [],
   "source": [
    "for i in l:\n",
    "    l1.append(i.upper())"
   ]
  },
  {
   "cell_type": "code",
   "execution_count": 39,
   "id": "2efdf957-d50e-4d30-94db-ac65904207c8",
   "metadata": {},
   "outputs": [
    {
     "data": {
      "text/plain": [
       "['nseeb', 'pwskills', 'course', 'maitreya']"
      ]
     },
     "execution_count": 39,
     "metadata": {},
     "output_type": "execute_result"
    }
   ],
   "source": [
    "l"
   ]
  },
  {
   "cell_type": "code",
   "execution_count": 40,
   "id": "5a461e1c-84c4-4669-8c83-f748083c5315",
   "metadata": {},
   "outputs": [
    {
     "data": {
      "text/plain": [
       "['NSEEB', 'PWSKILLS', 'COURSE', 'MAITREYA']"
      ]
     },
     "execution_count": 40,
     "metadata": {},
     "output_type": "execute_result"
    }
   ],
   "source": [
    "l1"
   ]
  },
  {
   "cell_type": "code",
   "execution_count": 50,
   "id": "91a69af7-52e0-43ca-b1c2-810add49a231",
   "metadata": {},
   "outputs": [],
   "source": [
    "l_num = []\n",
    "l_str = []\n",
    "l = [1,2,3,4,4,5,'nseeb','maitreya',4.12,'abc' ,4+6j]\n",
    "for i in l:\n",
    "    if type(i) == int or type(i) == float or type(i) == complex :\n",
    "        l_num.append(i)\n",
    "    else:\n",
    "        l_str.append(i)\n",
    "    \n",
    "\n"
   ]
  },
  {
   "cell_type": "code",
   "execution_count": 52,
   "id": "0aa5faf2-4515-42ac-bee2-146cf3966736",
   "metadata": {},
   "outputs": [
    {
     "data": {
      "text/plain": [
       "[1, 2, 3, 4, 4, 5, 4.12, (4+6j)]"
      ]
     },
     "execution_count": 52,
     "metadata": {},
     "output_type": "execute_result"
    }
   ],
   "source": [
    "l_num"
   ]
  },
  {
   "cell_type": "code",
   "execution_count": 53,
   "id": "ee172732-7b7e-47ad-bb3e-2c97ddcf3832",
   "metadata": {},
   "outputs": [
    {
     "data": {
      "text/plain": [
       "['nseeb', 'maitreya', 'abc']"
      ]
     },
     "execution_count": 53,
     "metadata": {},
     "output_type": "execute_result"
    }
   ],
   "source": [
    "l_str"
   ]
  },
  {
   "cell_type": "code",
   "execution_count": null,
   "id": "90671d71-3412-4229-9f0f-3372a02e1fe7",
   "metadata": {},
   "outputs": [],
   "source": []
  }
 ],
 "metadata": {
  "kernelspec": {
   "display_name": "Python 3 (ipykernel)",
   "language": "python",
   "name": "python3"
  },
  "language_info": {
   "codemirror_mode": {
    "name": "ipython",
    "version": 3
   },
   "file_extension": ".py",
   "mimetype": "text/x-python",
   "name": "python",
   "nbconvert_exporter": "python",
   "pygments_lexer": "ipython3",
   "version": "3.10.8"
  }
 },
 "nbformat": 4,
 "nbformat_minor": 5
}
