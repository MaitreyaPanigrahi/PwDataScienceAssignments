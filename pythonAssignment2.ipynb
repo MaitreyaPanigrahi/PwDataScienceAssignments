{
 "cells": [
  {
   "cell_type": "code",
   "execution_count": 9,
   "id": "21a3c094-f5f0-4d83-b34a-6df4460f7f60",
   "metadata": {},
   "outputs": [],
   "source": [
    "#Q1\n",
    "data = [('Sachin Tendulkar', 34357), ('Ricky Ponting', 27483), ('Jack Kallis', 25534), ('Virat Kohli', 24936)]\n",
    "\n",
    "sorted_data = sorted(data,key = lambda x : x[1] , reverse = True)"
   ]
  },
  {
   "cell_type": "code",
   "execution_count": 10,
   "id": "cf784c90-2cb7-4464-9ac1-62eeac8dc5f9",
   "metadata": {
    "tags": []
   },
   "outputs": [
    {
     "name": "stdout",
     "output_type": "stream",
     "text": [
      "('Sachin Tendulkar', 34357)\n",
      "('Ricky Ponting', 27483)\n",
      "('Jack Kallis', 25534)\n",
      "('Virat Kohli', 24936)\n"
     ]
    }
   ],
   "source": [
    "for i in sorted_data:\n",
    "    print(i)"
   ]
  },
  {
   "cell_type": "code",
   "execution_count": 11,
   "id": "b75de17e-3979-4a02-8fd7-de8fc664a976",
   "metadata": {},
   "outputs": [],
   "source": [
    "#Q2 \n",
    "data = [1, 2, 3, 4, 5, 6, 7, 8, 9, 10]\n",
    "square_list = list(map(lambda x:x**2,data))"
   ]
  },
  {
   "cell_type": "code",
   "execution_count": 12,
   "id": "19d22970-8e2c-426c-977b-112d224b204b",
   "metadata": {},
   "outputs": [
    {
     "data": {
      "text/plain": [
       "[1, 4, 9, 16, 25, 36, 49, 64, 81, 100]"
      ]
     },
     "execution_count": 12,
     "metadata": {},
     "output_type": "execute_result"
    }
   ],
   "source": [
    "square_list"
   ]
  },
  {
   "cell_type": "code",
   "execution_count": 15,
   "id": "610885a8-783c-4df7-b9b5-b584940ee2de",
   "metadata": {},
   "outputs": [],
   "source": [
    "#Q3\n",
    "data = [1, 2, 3, 4, 5, 6, 7, 8, 9, 10]\n",
    "tuple_of_string = tuple(map(lambda x:str(x) , data))"
   ]
  },
  {
   "cell_type": "code",
   "execution_count": 16,
   "id": "6075b32d-00b4-4457-8b38-bf90e96c183f",
   "metadata": {},
   "outputs": [
    {
     "data": {
      "text/plain": [
       "('1', '2', '3', '4', '5', '6', '7', '8', '9', '10')"
      ]
     },
     "execution_count": 16,
     "metadata": {},
     "output_type": "execute_result"
    }
   ],
   "source": [
    "tuple_of_string"
   ]
  },
  {
   "cell_type": "code",
   "execution_count": 21,
   "id": "8cd97957-be20-46ec-8c44-49c254d770ea",
   "metadata": {},
   "outputs": [],
   "source": [
    "#Q4\n",
    "l = []\n",
    "i = 1\n",
    "n = 25\n",
    "while i<=n:\n",
    "    l.append(i)\n",
    "    i = i + 1"
   ]
  },
  {
   "cell_type": "code",
   "execution_count": 24,
   "id": "327b6cad-bc28-4ab2-9416-2f92e56836de",
   "metadata": {},
   "outputs": [],
   "source": [
    "l\n",
    "from functools import reduce"
   ]
  },
  {
   "cell_type": "code",
   "execution_count": 26,
   "id": "14be7726-03ed-4c70-a9dd-c97533bc36f3",
   "metadata": {},
   "outputs": [
    {
     "data": {
      "text/plain": [
       "15511210043330985984000000"
      ]
     },
     "execution_count": 26,
     "metadata": {},
     "output_type": "execute_result"
    }
   ],
   "source": [
    "reduce(lambda x,y:x*y , l)"
   ]
  },
  {
   "cell_type": "code",
   "execution_count": 35,
   "id": "5db9078d-5537-4ff2-993e-165a1791e15a",
   "metadata": {},
   "outputs": [],
   "source": [
    "#Q5\n",
    "l = [2, 3, 6, 9, 27, 60, 90, 120, 55, 46]\n",
    "l1 = list(filter(lambda x: x % 2 ==0 and x % 3 == 0 , l))"
   ]
  },
  {
   "cell_type": "code",
   "execution_count": 36,
   "id": "b8a19570-3d19-42f3-afc7-ac78b6ff468a",
   "metadata": {},
   "outputs": [
    {
     "data": {
      "text/plain": [
       "[6, 60, 90, 120]"
      ]
     },
     "execution_count": 36,
     "metadata": {},
     "output_type": "execute_result"
    }
   ],
   "source": [
    "l1"
   ]
  },
  {
   "cell_type": "code",
   "execution_count": 37,
   "id": "3974e656-a311-4891-8b1e-ddacf6556158",
   "metadata": {},
   "outputs": [
    {
     "name": "stdout",
     "output_type": "stream",
     "text": [
      "Palindrome\n"
     ]
    }
   ],
   "source": [
    "#Q6\n",
    "x = 'radar'\n",
    "if x == x[::-1]:\n",
    "    print("
   ]
  },
  {
   "cell_type": "code",
   "execution_count": null,
   "id": "dc6217ef-b7dd-4b2f-8af2-5072640ceb78",
   "metadata": {},
   "outputs": [],
   "source": []
  }
 ],
 "metadata": {
  "kernelspec": {
   "display_name": "Python 3 (ipykernel)",
   "language": "python",
   "name": "python3"
  },
  "language_info": {
   "codemirror_mode": {
    "name": "ipython",
    "version": 3
   },
   "file_extension": ".py",
   "mimetype": "text/x-python",
   "name": "python",
   "nbconvert_exporter": "python",
   "pygments_lexer": "ipython3",
   "version": "3.10.8"
  }
 },
 "nbformat": 4,
 "nbformat_minor": 5
}
