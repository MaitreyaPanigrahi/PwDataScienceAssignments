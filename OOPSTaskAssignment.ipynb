{
 "cells": [
  {
   "cell_type": "code",
   "execution_count": 1,
   "id": "3ce5b4b6-66b6-4bc7-b0d6-8117fd90af78",
   "metadata": {},
   "outputs": [],
   "source": [
    "#Q1\n",
    "class vehicle:\n",
    "    def __init__(self,name_of_vehicle,max_speed,average_of_vehicle):\n",
    "        self.name_of_vehicle = name_of_vehicle\n",
    "        self.max_speed = max_speed\n",
    "        self.average_of_vehicle = average_of_vehicle\n",
    "    def return_details(self):\n",
    "        return self.name_of_vehicle,self.max_speed,self.average_of_vehicle"
   ]
  },
  {
   "cell_type": "code",
   "execution_count": 2,
   "id": "ec78a21b-feb8-4e96-9ab8-501059a2f8a7",
   "metadata": {},
   "outputs": [],
   "source": [
    "vehicle_obj = vehicle('honda',110,50)"
   ]
  },
  {
   "cell_type": "code",
   "execution_count": 3,
   "id": "c54e046c-1093-423e-9e7a-0e10ff185f06",
   "metadata": {},
   "outputs": [
    {
     "data": {
      "text/plain": [
       "('honda', 110, 50)"
      ]
     },
     "execution_count": 3,
     "metadata": {},
     "output_type": "execute_result"
    }
   ],
   "source": [
    "vehicle_obj.return_details()"
   ]
  },
  {
   "cell_type": "code",
   "execution_count": 4,
   "id": "43b1b338-f3b2-427d-8922-2eb7c449f017",
   "metadata": {},
   "outputs": [
    {
     "data": {
      "text/plain": [
       "110"
      ]
     },
     "execution_count": 4,
     "metadata": {},
     "output_type": "execute_result"
    }
   ],
   "source": [
    "vehicle_obj.max_speed"
   ]
  },
  {
   "cell_type": "code",
   "execution_count": 21,
   "id": "74b98353-e5cd-442a-b768-0ed347ba3c3f",
   "metadata": {},
   "outputs": [],
   "source": [
    "#Q2\n",
    "class vehicle:\n",
    "    def __init__(self,name_of_vehicle,max_speed,average_of_vehicle):\n",
    "        self.name_of_vehicle = name_of_vehicle\n",
    "        self.max_speed = max_speed\n",
    "        self.average_of_vehicle = average_of_vehicle\n",
    "    def return_details(self):\n",
    "        return self.name_of_vehicle,self.max_speed,self.average_of_vehicle\n",
    "class car(vehicle):\n",
    "    def seating_capacity(self,capacity):\n",
    "        self.capacity = capacity\n",
    "        return self.capacity\n",
    "    "
   ]
  },
  {
   "cell_type": "code",
   "execution_count": 22,
   "id": "701392c6-8521-4280-a9ed-c8c9f12d5929",
   "metadata": {},
   "outputs": [],
   "source": [
    "vehicle_obj = vehicle('honda',110,55)"
   ]
  },
  {
   "cell_type": "code",
   "execution_count": 23,
   "id": "aafb930d-907d-444f-bc01-505619c3995b",
   "metadata": {},
   "outputs": [],
   "source": [
    "car_obj = car('honda',110,55)"
   ]
  },
  {
   "cell_type": "code",
   "execution_count": 24,
   "id": "158a66da-b359-4c80-95bb-4884af8c046c",
   "metadata": {},
   "outputs": [
    {
     "data": {
      "text/plain": [
       "'honda'"
      ]
     },
     "execution_count": 24,
     "metadata": {},
     "output_type": "execute_result"
    }
   ],
   "source": [
    "car_obj.name_of_vehicle"
   ]
  },
  {
   "cell_type": "code",
   "execution_count": 25,
   "id": "58c69694-432e-4852-b750-fa28fd506a48",
   "metadata": {},
   "outputs": [
    {
     "data": {
      "text/plain": [
       "3"
      ]
     },
     "execution_count": 25,
     "metadata": {},
     "output_type": "execute_result"
    }
   ],
   "source": [
    "car_obj.seating_capacity(3)"
   ]
  },
  {
   "cell_type": "markdown",
   "id": "9cebf76d-ef40-47e6-94b0-486a9f026e34",
   "metadata": {},
   "source": [
    "Q3 \n",
    "Multiple inheritance is a type of inheritance where a class inherite properties from 2 or more different class\n",
    "\n"
   ]
  },
  {
   "cell_type": "code",
   "execution_count": 34,
   "id": "b294cfb6-0a69-421b-9450-323105f3e559",
   "metadata": {},
   "outputs": [],
   "source": [
    "class dataScience:\n",
    "    className = 'data science'\n",
    "class webdev:\n",
    "    className1 = 'web dev'\n",
    "class pwskills(dataScience,webdev):\n",
    "    pass"
   ]
  },
  {
   "cell_type": "code",
   "execution_count": 35,
   "id": "95960969-88c8-4e51-8d7f-6d926f776ff7",
   "metadata": {},
   "outputs": [],
   "source": [
    "pw = pwskills()"
   ]
  },
  {
   "cell_type": "code",
   "execution_count": 36,
   "id": "7baa7503-ba15-488f-8866-cd7c0ac8b7a9",
   "metadata": {},
   "outputs": [
    {
     "data": {
      "text/plain": [
       "'data science'"
      ]
     },
     "execution_count": 36,
     "metadata": {},
     "output_type": "execute_result"
    }
   ],
   "source": [
    "pw.className"
   ]
  },
  {
   "cell_type": "code",
   "execution_count": 37,
   "id": "99afd9b1-fd86-4781-baf5-c7e9dd10a5af",
   "metadata": {},
   "outputs": [
    {
     "data": {
      "text/plain": [
       "'web dev'"
      ]
     },
     "execution_count": 37,
     "metadata": {},
     "output_type": "execute_result"
    }
   ],
   "source": [
    "pw.className1\n"
   ]
  },
  {
   "cell_type": "markdown",
   "id": "57dbf589-5ade-4688-a594-760b76005fcf",
   "metadata": {},
   "source": [
    "#Q4\n",
    "A getter method, also known as an accessor method, is used to retrieve the value of an attribute.\n",
    "\n"
   ]
  },
  {
   "cell_type": "code",
   "execution_count": 49,
   "id": "c565c5f5-3028-44e1-ad4a-a09ac561bbce",
   "metadata": {},
   "outputs": [],
   "source": [
    "class car:\n",
    "    def __init__(self,name,speed):\n",
    "        self.speed = speed\n",
    "        self.name = name\n",
    "    def set_speed(self,speed):\n",
    "        self.speed = 0 if speed<0 else speed\n",
    "    def get_speed(self):\n",
    "        return self.speed"
   ]
  },
  {
   "cell_type": "code",
   "execution_count": 50,
   "id": "d2e65482-59d2-42cd-b589-a35a2cce17c1",
   "metadata": {},
   "outputs": [],
   "source": [
    "car_obj = car('Rolls Royce' , 60)"
   ]
  },
  {
   "cell_type": "code",
   "execution_count": 51,
   "id": "bee67eab-38a2-457a-9b36-4d0bbacadfc3",
   "metadata": {},
   "outputs": [
    {
     "data": {
      "text/plain": [
       "60"
      ]
     },
     "execution_count": 51,
     "metadata": {},
     "output_type": "execute_result"
    }
   ],
   "source": [
    "car_obj.get_speed()"
   ]
  },
  {
   "cell_type": "code",
   "execution_count": 53,
   "id": "3e42db19-c688-44bf-8f71-90969aa362d1",
   "metadata": {},
   "outputs": [],
   "source": [
    "car_obj.set_speed(40)"
   ]
  },
  {
   "cell_type": "code",
   "execution_count": 54,
   "id": "0b0b9c3b-ac1e-47db-92ab-658883bac29b",
   "metadata": {},
   "outputs": [
    {
     "data": {
      "text/plain": [
       "40"
      ]
     },
     "execution_count": 54,
     "metadata": {},
     "output_type": "execute_result"
    }
   ],
   "source": [
    "car_obj.get_speed()"
   ]
  },
  {
   "cell_type": "markdown",
   "id": "19990732-2c0a-474c-babc-944381574922",
   "metadata": {},
   "source": [
    "#Q5 Method overriding is a method in oops where a child class can implement a specific method that is already implemented in a parent class"
   ]
  },
  {
   "cell_type": "code",
   "execution_count": 55,
   "id": "f8c3a66f-70ed-4795-a3a9-6c70803d283f",
   "metadata": {},
   "outputs": [],
   "source": [
    "class Animal:\n",
    "    def speak(self):\n",
    "        return \"Animal speaks\"\n",
    "class Dog(Animal):\n",
    "    def speak(self):\n",
    "        return \"Dog Bark\"\n",
    "class cat(Animal):\n",
    "    pass"
   ]
  },
  {
   "cell_type": "code",
   "execution_count": 56,
   "id": "ef18fd36-fa21-4775-bb04-09bf07f55bd3",
   "metadata": {},
   "outputs": [],
   "source": [
    "dog_obj = Dog()"
   ]
  },
  {
   "cell_type": "code",
   "execution_count": 57,
   "id": "eb69619c-144d-427c-b49e-45d22524d10c",
   "metadata": {},
   "outputs": [
    {
     "data": {
      "text/plain": [
       "'Dog Bark'"
      ]
     },
     "execution_count": 57,
     "metadata": {},
     "output_type": "execute_result"
    }
   ],
   "source": [
    "dog_obj.speak()"
   ]
  },
  {
   "cell_type": "code",
   "execution_count": 58,
   "id": "23621ba0-ba20-4051-90b7-5e9948038542",
   "metadata": {},
   "outputs": [],
   "source": [
    "cat_obj = cat()"
   ]
  },
  {
   "cell_type": "code",
   "execution_count": 59,
   "id": "5ef90fcf-e874-40b9-8fca-635637a2c9d6",
   "metadata": {},
   "outputs": [
    {
     "data": {
      "text/plain": [
       "'Cat meow'"
      ]
     },
     "execution_count": 59,
     "metadata": {},
     "output_type": "execute_result"
    }
   ],
   "source": [
    "cat_obj.speak()"
   ]
  },
  {
   "cell_type": "code",
   "execution_count": null,
   "id": "123685b7-73e5-4a66-8cf5-c9a4174ec38f",
   "metadata": {},
   "outputs": [],
   "source": []
  }
 ],
 "metadata": {
  "kernelspec": {
   "display_name": "Python 3 (ipykernel)",
   "language": "python",
   "name": "python3"
  },
  "language_info": {
   "codemirror_mode": {
    "name": "ipython",
    "version": 3
   },
   "file_extension": ".py",
   "mimetype": "text/x-python",
   "name": "python",
   "nbconvert_exporter": "python",
   "pygments_lexer": "ipython3",
   "version": "3.10.8"
  }
 },
 "nbformat": 4,
 "nbformat_minor": 5
}
