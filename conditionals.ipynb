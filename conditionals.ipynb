{
 "cells": [
  {
   "cell_type": "code",
   "execution_count": 14,
   "id": "70a594cd-721b-44d4-a865-f3691b9a037b",
   "metadata": {},
   "outputs": [
    {
     "name": "stdin",
     "output_type": "stream",
     "text": [
      "Enter your marks 66\n"
     ]
    },
    {
     "name": "stdout",
     "output_type": "stream",
     "text": [
      "You will be part of A1 batch\n"
     ]
    }
   ],
   "source": [
    "marks = int(input(\"Enter your marks\"))\n",
    "if marks >= 80  :\n",
    "    print(\"you will be the part of A0 batch\")\n",
    "elif marks < 80 and marks >= 60 :\n",
    "    print(\"You will be part of A1 batch\")\n",
    "    \n",
    "elif marks < 60 and marks >= 40 :\n",
    "    print(\"You will be part of A2 batch\")\n",
    "else :\n",
    "    print (\"You will be part of A3 batch\")"
   ]
  },
  {
   "cell_type": "code",
   "execution_count": 22,
   "id": "4a02f6c7-71d6-41fb-9384-7298c4aa0a01",
   "metadata": {},
   "outputs": [
    {
     "name": "stdin",
     "output_type": "stream",
     "text": [
      "Enter the price 7000\n"
     ]
    },
    {
     "name": "stdout",
     "output_type": "stream",
     "text": [
      "i will not purchase\n",
      "This is too much\n"
     ]
    }
   ],
   "source": [
    "price = int(input(\"Enter the price\"))\n",
    "if price > 1000:\n",
    "    print(\"i will not purchase\")\n",
    "    if(price > 5000):\n",
    "        print(\"This is too much\")\n",
    "    else:\n",
    "        print(\"Can think of it\")\n",
    "else:\n",
    "    print(\"I will Purchase\")"
   ]
  },
  {
   "cell_type": "code",
   "execution_count": null,
   "id": "46829de1-a656-48c0-979e-92cc4fc2481e",
   "metadata": {},
   "outputs": [],
   "source": []
  }
 ],
 "metadata": {
  "kernelspec": {
   "display_name": "Python 3 (ipykernel)",
   "language": "python",
   "name": "python3"
  },
  "language_info": {
   "codemirror_mode": {
    "name": "ipython",
    "version": 3
   },
   "file_extension": ".py",
   "mimetype": "text/x-python",
   "name": "python",
   "nbconvert_exporter": "python",
   "pygments_lexer": "ipython3",
   "version": "3.10.8"
  }
 },
 "nbformat": 4,
 "nbformat_minor": 5
}
