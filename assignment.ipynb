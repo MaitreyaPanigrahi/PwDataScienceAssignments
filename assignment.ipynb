{
 "cells": [
  {
   "cell_type": "code",
   "execution_count": 1,
   "id": "3a8b886e-5a8d-4dde-bdc5-0c4236ed9871",
   "metadata": {},
   "outputs": [
    {
     "name": "stdout",
     "output_type": "stream",
     "text": [
      "55 3628800\n"
     ]
    }
   ],
   "source": [
    "# Using For loop\n",
    "sum = 0\n",
    "prod = 1\n",
    "for i in range(1,11):\n",
    "    sum += i\n",
    "    prod *= i\n",
    "print(sum,prod)\n",
    "    "
   ]
  },
  {
   "cell_type": "code",
   "execution_count": 5,
   "id": "934d4144-7bef-4825-91ed-bfea78b91f03",
   "metadata": {},
   "outputs": [
    {
     "name": "stdout",
     "output_type": "stream",
     "text": [
      "55 3628800\n"
     ]
    }
   ],
   "source": [
    "#using while loop\n",
    "sum1 = 0\n",
    "prod1 = 1\n",
    "i = 1\n",
    "while i<=10:\n",
    "    sum1 += i\n",
    "    prod1 *= i\n",
    "    i +=1\n",
    "print(sum1,prod1)"
   ]
  },
  {
   "cell_type": "code",
   "execution_count": 1,
   "id": "5567ffe4-c34d-4661-82ae-3cb58dbd0e0f",
   "metadata": {},
   "outputs": [
    {
     "name": "stdout",
     "output_type": "stream",
     "text": [
      "[2, 4, 5, 6, 8, 10, 12, 14, 15, 16, 18, 20, 22, 24, 25, 26, 28, 30, 32, 34, 35, 36, 38, 40, 42, 44, 45, 46, 48, 50, 52, 54, 55, 56, 58, 60, 62, 64, 65, 66, 68, 70, 72, 74, 75, 76, 78, 80, 82, 84, 85, 86, 88, 90, 92, 94, 95, 96, 98, 100] [2, 4, 5, 6, 8, 10, 12, 14, 15, 16, 18, 20, 22, 24, 25, 26, 28, 30, 32, 34, 35, 36, 38, 40, 42, 44, 45, 46, 48, 50, 52, 54, 55, 56, 58, 60, 62, 64, 65, 66, 68, 70, 72, 74, 75, 76, 78, 80, 82, 84, 85, 86, 88, 90, 92, 94, 95, 96, 98, 100]\n"
     ]
    }
   ],
   "source": [
    "l =list(range(1,101))\n",
    "#using while loop\n",
    "l_for = []\n",
    "for i in l:\n",
    "    cube = i ** 3\n",
    "    if cube % 4 == 0 or cube % 5 == 0:\n",
    "        l_for.append(i)\n",
    "    \n",
    "l_while = []\n",
    "i = 1\n",
    "while i<=100:\n",
    "    cube = i ** 3\n",
    "    if cube % 4 == 0 or cube % 5 == 0:\n",
    "        l_while.append(i)\n",
    "    i += 1\n",
    "\n",
    "\n",
    "print(l_for,l_while)\n",
    "        \n",
    "    "
   ]
  },
  {
   "cell_type": "code",
   "execution_count": 20,
   "id": "7159d35a-2833-4ad9-8c11-e4c0db12d05e",
   "metadata": {},
   "outputs": [
    {
     "name": "stdout",
     "output_type": "stream",
     "text": [
      "12\n"
     ]
    }
   ],
   "source": [
    "s = 'I want to become a data scientist'\n",
    "s = s.lower()\n",
    "#s.count('a') + s.count('e') + s.count('i') + s.count('o') + s.count('u')\n",
    "count = 0\n",
    "for i in s:\n",
    "    if i == 'a' or i == 'e' or i == 'i' or i =='o' or i == 'u':\n",
    "        count += 1\n",
    "print (count)\n",
    "\n",
    "        "
   ]
  },
  {
   "cell_type": "code",
   "execution_count": null,
   "id": "1dba6edf-abee-49ac-b43c-7e08e7b7f2da",
   "metadata": {},
   "outputs": [],
   "source": [
    "unit = int(input(\"Enter the unit used\"))\n",
    "bill = 0\n",
    "if unit <=100:\n",
    "    bill = unit * 4.5\n",
    "elif unit <= 200:\n",
    "    bill = 4.5 * 100 + (unit-100) * 6\n",
    "elif unit <= 300:\n",
    "    bill = 4.5 * 100 + 6 *100 + (unit-200) * 10\n",
    "else:\n",
    "    bill = 4.5 * 100 + 6 * 100 + 10 * 100 + (unit -300) * 20\n",
    "    \n",
    "print(bill)"
   ]
  },
  {
   "cell_type": "code",
   "execution_count": null,
   "id": "f5977dc2-544f-4698-83ee-620f34c32444",
   "metadata": {},
   "outputs": [],
   "source": []
  }
 ],
 "metadata": {
  "kernelspec": {
   "display_name": "Python 3 (ipykernel)",
   "language": "python",
   "name": "python3"
  },
  "language_info": {
   "codemirror_mode": {
    "name": "ipython",
    "version": 3
   },
   "file_extension": ".py",
   "mimetype": "text/x-python",
   "name": "python",
   "nbconvert_exporter": "python",
   "pygments_lexer": "ipython3",
   "version": "3.10.8"
  }
 },
 "nbformat": 4,
 "nbformat_minor": 5
}
