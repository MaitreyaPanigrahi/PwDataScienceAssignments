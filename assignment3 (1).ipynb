{
 "cells": [
  {
   "cell_type": "code",
   "execution_count": 1,
   "id": "b8955886-e770-4260-bd03-3ccd4139c12f",
   "metadata": {},
   "outputs": [
    {
     "data": {
      "text/plain": [
       "[1, 3, 5, 7, 9, 11, 13, 15, 17, 19, 21, 23, 25]"
      ]
     },
     "execution_count": 1,
     "metadata": {},
     "output_type": "execute_result"
    }
   ],
   "source": [
    "#Q1\n",
    "''' def key word is used to create a function'''\n",
    "def odd():\n",
    "    l = []\n",
    "    for i in range(26):\n",
    "        if i % 2 != 0:\n",
    "            l.append(i)\n",
    "    return l\n",
    "odd()"
   ]
  },
  {
   "cell_type": "code",
   "execution_count": 3,
   "id": "4bd7ca4b-a9ee-4453-af88-4910ddedef8e",
   "metadata": {},
   "outputs": [
    {
     "data": {
      "text/plain": [
       "(1, 'nseeb', 9.09)"
      ]
     },
     "execution_count": 3,
     "metadata": {},
     "output_type": "execute_result"
    }
   ],
   "source": [
    "#Q2\n",
    "''' *args is used to take variable number of parameters \n",
    "at a time to a function'''\n",
    "\n",
    "''' **kwargs is used to pass variable number of paramaters \n",
    "as key value pairs to a function'''\n",
    "\n",
    "def test(*args):\n",
    "    return args\n",
    "test(1,'nseeb',9.09)\n"
   ]
  },
  {
   "cell_type": "code",
   "execution_count": 4,
   "id": "218484d4-c0ed-4544-b363-8a28c8d4cd49",
   "metadata": {},
   "outputs": [
    {
     "data": {
      "text/plain": [
       "{'a': 3, 'b': 'nseeb', 'c': True}"
      ]
     },
     "execution_count": 4,
     "metadata": {},
     "output_type": "execute_result"
    }
   ],
   "source": [
    "def test2(**kwargs):\n",
    "    return kwargs\n",
    "test2(a=3,b='nseeb',c = True)"
   ]
  },
  {
   "cell_type": "code",
   "execution_count": 12,
   "id": "fc68474e-32bd-479a-8d26-9325944336fd",
   "metadata": {},
   "outputs": [
    {
     "name": "stdout",
     "output_type": "stream",
     "text": [
      "2\n",
      "4\n",
      "6\n",
      "8\n",
      "10\n"
     ]
    }
   ],
   "source": [
    "#Q3 \n",
    "'''iterator is an object implements an iterator function,\n",
    "allowing it to be iterable using next() function or by for loop'''\n",
    "\n",
    "''' Method used to initialise the iterator object is iter() function'''\n",
    "''' Method used for iteration is using next() function or by for loop'''\n",
    "\n",
    "my_list = [2,4,6,8,10,12,14,16,18,20]\n",
    "my_iterator = iter(my_list)\n",
    "for i in range(5):\n",
    "    print(next(my_iterator))\n",
    "    "
   ]
  },
  {
   "cell_type": "code",
   "execution_count": 30,
   "id": "e40286c2-f1fd-4721-b271-75d51a93779f",
   "metadata": {},
   "outputs": [],
   "source": [
    "#Q4\n",
    "''' Generator function is a special type of function \n",
    "which yields a series of value at a time suspending its\n",
    "state between each yield statement.'''\n",
    "\n",
    "'''The yield keyword is used in a generator function \n",
    "to specify the value to be generated.'''\n",
    "\n",
    "\n",
    "def fib():\n",
    "    a,b = 0,1\n",
    "    while True:\n",
    "        yield a\n",
    "        a,b = b,a+b"
   ]
  },
  {
   "cell_type": "code",
   "execution_count": 31,
   "id": "109f3787-c188-433e-971d-dc151327d141",
   "metadata": {},
   "outputs": [
    {
     "name": "stdout",
     "output_type": "stream",
     "text": [
      "0\n"
     ]
    }
   ],
   "source": [
    "fib_gen = fib()\n",
    "print(next(fib_gen))"
   ]
  },
  {
   "cell_type": "code",
   "execution_count": 32,
   "id": "7bfd08c1-e622-4127-9f8e-f19a3aac0a10",
   "metadata": {},
   "outputs": [
    {
     "name": "stdout",
     "output_type": "stream",
     "text": [
      "1\n"
     ]
    }
   ],
   "source": [
    "print(next(fib_gen))"
   ]
  },
  {
   "cell_type": "code",
   "execution_count": 33,
   "id": "2da815e4-9a9d-4719-ad49-a0f7753363b5",
   "metadata": {},
   "outputs": [
    {
     "name": "stdout",
     "output_type": "stream",
     "text": [
      "1\n"
     ]
    }
   ],
   "source": [
    "print(next(fib_gen))"
   ]
  },
  {
   "cell_type": "code",
   "execution_count": 34,
   "id": "e5709098-14c6-4497-a9eb-908694a5f1f8",
   "metadata": {},
   "outputs": [
    {
     "name": "stdout",
     "output_type": "stream",
     "text": [
      "2\n"
     ]
    }
   ],
   "source": [
    "print(next(fib_gen))"
   ]
  },
  {
   "cell_type": "code",
   "execution_count": 35,
   "id": "fc3ad1da-8847-4431-9921-d46153eb50c8",
   "metadata": {},
   "outputs": [
    {
     "name": "stdout",
     "output_type": "stream",
     "text": [
      "3\n"
     ]
    }
   ],
   "source": [
    "print(next(fib_gen))"
   ]
  },
  {
   "cell_type": "code",
   "execution_count": 36,
   "id": "d1774228-acb8-45c8-b53e-8e8a7add72b5",
   "metadata": {},
   "outputs": [
    {
     "name": "stdout",
     "output_type": "stream",
     "text": [
      "5\n"
     ]
    }
   ],
   "source": [
    "print(next(fib_gen))"
   ]
  },
  {
   "cell_type": "code",
   "execution_count": 37,
   "id": "5df285ed-54cc-40e0-b3ba-2a7d17792875",
   "metadata": {},
   "outputs": [
    {
     "name": "stdout",
     "output_type": "stream",
     "text": [
      "2\n",
      "3\n",
      "5\n",
      "7\n",
      "11\n",
      "13\n",
      "17\n",
      "19\n",
      "23\n",
      "29\n",
      "31\n",
      "37\n",
      "41\n",
      "43\n",
      "47\n",
      "53\n",
      "59\n",
      "61\n",
      "67\n",
      "71\n"
     ]
    }
   ],
   "source": [
    "#Q5\n",
    "def prime():\n",
    "    primes = []\n",
    "    num = 2\n",
    "    while True:\n",
    "        if all (num % prime != 0 for prime in primes):\n",
    "            primes.append(num)\n",
    "            yield num\n",
    "        num = num + 1\n",
    "prime_gen = prime()\n",
    "for i in range(20):\n",
    "    prime = next(prime_gen)\n",
    "    print(prime)\n",
    "        "
   ]
  },
  {
   "cell_type": "code",
   "execution_count": 38,
   "id": "6d6fc6ce-d134-435d-b514-d1a479e2f8ef",
   "metadata": {},
   "outputs": [
    {
     "name": "stdout",
     "output_type": "stream",
     "text": [
      "0\n",
      "1\n",
      "1\n",
      "2\n",
      "3\n",
      "5\n",
      "8\n",
      "13\n",
      "21\n",
      "34\n"
     ]
    }
   ],
   "source": [
    "#Q6\n",
    "def fib():\n",
    "    a,b = 0,1\n",
    "    while True:\n",
    "        yield a\n",
    "        a,b = b ,a+b\n",
    "fib_gen = fib()\n",
    "for i in range(10):\n",
    "    print(next(fib_gen))"
   ]
  },
  {
   "cell_type": "code",
   "execution_count": 39,
   "id": "9d7e5f06-d638-4a5b-abdf-65147d53215f",
   "metadata": {},
   "outputs": [
    {
     "data": {
      "text/plain": [
       "['p', 'w', 's', 'k', 'i', 'l', 'l', 's']"
      ]
     },
     "execution_count": 39,
     "metadata": {},
     "output_type": "execute_result"
    }
   ],
   "source": [
    "#Q7\n",
    "s = 'pwskills'\n",
    "upp = lambda s : s\n",
    "list(map(upp,s))"
   ]
  },
  {
   "cell_type": "code",
   "execution_count": 45,
   "id": "4b83d615-20c9-44c4-a96b-7c516cdf4c1a",
   "metadata": {},
   "outputs": [
    {
     "name": "stdin",
     "output_type": "stream",
     "text": [
      "Enter the Number 1331\n"
     ]
    },
    {
     "name": "stdout",
     "output_type": "stream",
     "text": [
      "The number is a palindrome\n"
     ]
    }
   ],
   "source": [
    "def palindrome(num):\n",
    "    orgNum = num\n",
    "    revNum = 0;\n",
    "    while num >0:\n",
    "        remainder = num % 10\n",
    "        revNum = revNum * 10 + remainder\n",
    "        num = num//10\n",
    "    if orgNum == revNum:\n",
    "        return True\n",
    "    else:\n",
    "        return False\n",
    "number = int(input(\"Enter the Number\"))\n",
    "if palindrome(number):\n",
    "    print(\"The number is a palindrome\")\n",
    "else:\n",
    "    print(\"The number is not a palindrome\")\n",
    "\n",
    "        \n",
    "\n"
   ]
  },
  {
   "cell_type": "code",
   "execution_count": 46,
   "id": "8e2e07d1-d285-4395-b160-709b6c3f502a",
   "metadata": {},
   "outputs": [],
   "source": [
    "#Q9\n",
    "my_list = list(range(101))"
   ]
  },
  {
   "cell_type": "code",
   "execution_count": 48,
   "id": "7c9bca6e-9d37-4b13-a764-74847dd73d5a",
   "metadata": {},
   "outputs": [
    {
     "data": {
      "text/plain": [
       "[1,\n",
       " 3,\n",
       " 5,\n",
       " 7,\n",
       " 9,\n",
       " 11,\n",
       " 13,\n",
       " 15,\n",
       " 17,\n",
       " 19,\n",
       " 21,\n",
       " 23,\n",
       " 25,\n",
       " 27,\n",
       " 29,\n",
       " 31,\n",
       " 33,\n",
       " 35,\n",
       " 37,\n",
       " 39,\n",
       " 41,\n",
       " 43,\n",
       " 45,\n",
       " 47,\n",
       " 49,\n",
       " 51,\n",
       " 53,\n",
       " 55,\n",
       " 57,\n",
       " 59,\n",
       " 61,\n",
       " 63,\n",
       " 65,\n",
       " 67,\n",
       " 69,\n",
       " 71,\n",
       " 73,\n",
       " 75,\n",
       " 77,\n",
       " 79,\n",
       " 81,\n",
       " 83,\n",
       " 85,\n",
       " 87,\n",
       " 89,\n",
       " 91,\n",
       " 93,\n",
       " 95,\n",
       " 97,\n",
       " 99]"
      ]
     },
     "execution_count": 48,
     "metadata": {},
     "output_type": "execute_result"
    }
   ],
   "source": [
    "list(filter(lambda x :x % 2 != 0,my_list))"
   ]
  },
  {
   "cell_type": "code",
   "execution_count": null,
   "id": "31bb7523-ace0-4de9-af37-12f395bd58b8",
   "metadata": {},
   "outputs": [],
   "source": []
  }
 ],
 "metadata": {
  "kernelspec": {
   "display_name": "Python 3 (ipykernel)",
   "language": "python",
   "name": "python3"
  },
  "language_info": {
   "codemirror_mode": {
    "name": "ipython",
    "version": 3
   },
   "file_extension": ".py",
   "mimetype": "text/x-python",
   "name": "python",
   "nbconvert_exporter": "python",
   "pygments_lexer": "ipython3",
   "version": "3.10.8"
  }
 },
 "nbformat": 4,
 "nbformat_minor": 5
}
