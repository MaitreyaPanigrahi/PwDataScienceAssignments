{
 "cells": [
  {
   "cell_type": "markdown",
   "id": "cc606c08-eceb-493f-b663-33185f3fc94f",
   "metadata": {},
   "source": [
    "Q1 Class: In object-oriented programming (OOP), a class is a blueprint or a template for creating objects."
   ]
  },
  {
   "cell_type": "code",
   "execution_count": 1,
   "id": "d0b8f1e0-9e29-44e8-99f3-4eeea55d3e71",
   "metadata": {},
   "outputs": [],
   "source": [
    "class car:\n",
    "    def details(self):\n",
    "        return \"Toyota\""
   ]
  },
  {
   "cell_type": "code",
   "execution_count": 2,
   "id": "60080b35-4893-4f8a-ad98-faabc28c4fb2",
   "metadata": {},
   "outputs": [],
   "source": [
    "car_obj = car()"
   ]
  },
  {
   "cell_type": "markdown",
   "id": "bc7be925-4576-4829-8a7c-476a10af7f15",
   "metadata": {},
   "source": [
    " An object is an instance of a class. "
   ]
  },
  {
   "cell_type": "code",
   "execution_count": 5,
   "id": "df9dc4e3-bef1-4c83-8062-d7ee15b1fe07",
   "metadata": {},
   "outputs": [
    {
     "data": {
      "text/plain": [
       "'Toyota'"
      ]
     },
     "execution_count": 5,
     "metadata": {},
     "output_type": "execute_result"
    }
   ],
   "source": [
    "car_obj.details()"
   ]
  },
  {
   "cell_type": "markdown",
   "id": "36d87435-48b3-43be-8a06-d57c5cb777c6",
   "metadata": {},
   "source": [
    "Q2 Four Pillars of OOPs are\n",
    "i) Polymorphism\n",
    "ii) Inheritance\n",
    "iii) Encapsulation\n",
    "iv) Abstraction"
   ]
  },
  {
   "cell_type": "markdown",
   "id": "23a74e73-249a-4118-b023-cf12357ff85e",
   "metadata": {},
   "source": [
    "Q3The __init__() function in Python is used as the constructor method for a class. It is automatically called when an object of the class is created. "
   ]
  },
  {
   "cell_type": "code",
   "execution_count": 6,
   "id": "d08cdda5-80d0-4fdb-8f48-2cf956df6401",
   "metadata": {},
   "outputs": [],
   "source": [
    "class car:\n",
    "    def __init__(self,name,model):\n",
    "        self.name = name\n",
    "        self.model = model\n",
    "    def return_details(self):\n",
    "        return self.name,self.model"
   ]
  },
  {
   "cell_type": "code",
   "execution_count": 7,
   "id": "6ce18727-f60c-408c-ab2c-51707b61bc54",
   "metadata": {},
   "outputs": [],
   "source": [
    "car_obj = car('Rolls Royce' , 1997)"
   ]
  },
  {
   "cell_type": "code",
   "execution_count": 8,
   "id": "c0dac74e-f472-41d1-9a88-d316011c2c4d",
   "metadata": {},
   "outputs": [
    {
     "data": {
      "text/plain": [
       "('Rolls Royce', 1997)"
      ]
     },
     "execution_count": 8,
     "metadata": {},
     "output_type": "execute_result"
    }
   ],
   "source": [
    "car_obj.return_details()"
   ]
  },
  {
   "cell_type": "markdown",
   "id": "077771ee-40ce-47e5-bb79-252d19e635d2",
   "metadata": {},
   "source": [
    "Q4 In object-oriented programming (OOP), self is a convention used to refer to the current instance of a class. "
   ]
  },
  {
   "cell_type": "markdown",
   "id": "ea6e4481-c3b9-445c-b63f-8f2b950bb62f",
   "metadata": {},
   "source": [
    "Q5 Inheritance is a fundamental concept in object-oriented programming (OOP) that allows a new class (subclass or derived class) to inherit properties (attributes and methods) from an existing class (base class or parent class). "
   ]
  },
  {
   "cell_type": "code",
   "execution_count": 12,
   "id": "baca9227-c621-4fd9-a9cd-cc02ca6cb5ba",
   "metadata": {},
   "outputs": [],
   "source": [
    "#Multiple Inheritance\n",
    "class dataScience:\n",
    "    def details(self):\n",
    "        return \"Data Science\"\n",
    "class webDev:\n",
    "    def details1(self):\n",
    "        return \"Web dev\"\n",
    "class pwskills(dataScience,webDev):\n",
    "    pass"
   ]
  },
  {
   "cell_type": "code",
   "execution_count": 13,
   "id": "cfb0ca04-3768-4328-9838-f09408c4e96b",
   "metadata": {},
   "outputs": [],
   "source": [
    "pw = pwskills()"
   ]
  },
  {
   "cell_type": "code",
   "execution_count": 14,
   "id": "c307badf-fc53-4029-954a-0bee6c8f493e",
   "metadata": {},
   "outputs": [
    {
     "data": {
      "text/plain": [
       "'Data Science'"
      ]
     },
     "execution_count": 14,
     "metadata": {},
     "output_type": "execute_result"
    }
   ],
   "source": [
    "pw.details()"
   ]
  },
  {
   "cell_type": "code",
   "execution_count": 15,
   "id": "0df38892-862a-46ee-88c1-597d509eca31",
   "metadata": {},
   "outputs": [
    {
     "data": {
      "text/plain": [
       "'Web dev'"
      ]
     },
     "execution_count": 15,
     "metadata": {},
     "output_type": "execute_result"
    }
   ],
   "source": [
    "pw.details1()"
   ]
  },
  {
   "cell_type": "code",
   "execution_count": null,
   "id": "91c55b29-7d80-4264-ab2c-ff66f24f04a4",
   "metadata": {},
   "outputs": [],
   "source": [
    "# Multilevel Inheritance\n",
    "class "
   ]
  }
 ],
 "metadata": {
  "kernelspec": {
   "display_name": "Python 3 (ipykernel)",
   "language": "python",
   "name": "python3"
  },
  "language_info": {
   "codemirror_mode": {
    "name": "ipython",
    "version": 3
   },
   "file_extension": ".py",
   "mimetype": "text/x-python",
   "name": "python",
   "nbconvert_exporter": "python",
   "pygments_lexer": "ipython3",
   "version": "3.10.8"
  }
 },
 "nbformat": 4,
 "nbformat_minor": 5
}
